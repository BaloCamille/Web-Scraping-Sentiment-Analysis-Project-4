{
 "cells": [
  {
   "attachments": {},
   "cell_type": "markdown",
   "metadata": {},
   "source": [
    "Camille Balo\n",
    "Project 4"
   ]
  },
  {
   "attachments": {},
   "cell_type": "markdown",
   "metadata": {},
   "source": [
    "**INTRODUCTION**"
   ]
  },
  {
   "attachments": {},
   "cell_type": "markdown",
   "metadata": {},
   "source": [
    "Description/Summary: This project aims to web scrape for various businesses following the specified keyword. Upon finding the businesses, reviews and ratings will then be scraped and analyzed for further understanding, including sentiment analysis using both the default textblob sentiment analyzer and the naive bayes sentiment analyzer. The results of the sentiment analzyer will then be used to create various informative graphs showing the positivity/negativity and subjectivity/objectivity of the reviews. "
   ]
  },
  {
   "attachments": {},
   "cell_type": "markdown",
   "metadata": {},
   "source": [
    "import all required modules"
   ]
  },
  {
   "cell_type": "code",
   "execution_count": 112,
   "metadata": {},
   "outputs": [],
   "source": [
    "import requests\n",
    "import json\n",
    "from textblob import TextBlob as tb\n",
    "import nltk\n",
    "from nltk.corpus import stopwords\n",
    "from textblob.sentiments import NaiveBayesAnalyzer as na\n",
    "import matplotlib.pyplot as plt"
   ]
  },
  {
   "attachments": {},
   "cell_type": "markdown",
   "metadata": {},
   "source": [
    "create variables to hold the API key generated when creating the app through the Yelp Dev website"
   ]
  },
  {
   "cell_type": "code",
   "execution_count": 2,
   "metadata": {},
   "outputs": [],
   "source": [
    "api_key = 'i3DsWXHAqAdylaOb_R1NFEsmrN3o8TKnFf5JzsOjyWspNEgtxkZINq4Y3jm8zjATyGWI1k14a7BiN8eTHiYyRf_fV61gHh0c9HdWOc5EbdYVuaiPgECM1Q5cCMdTZHYx'\n",
    "headers = {'Authorization': 'Bearer %s' % api_key}"
   ]
  },
  {
   "attachments": {},
   "cell_type": "markdown",
   "metadata": {},
   "source": [
    "define the url and parameters for the business search"
   ]
  },
  {
   "cell_type": "code",
   "execution_count": 3,
   "metadata": {},
   "outputs": [],
   "source": [
    "url='https://api.yelp.com/v3/businesses/search'\n",
    "\n",
    "#in this case, bakeries in NJ will be what is searched\n",
    "params = {'term':'bakery','location':'New Jersey'}"
   ]
  },
  {
   "attachments": {},
   "cell_type": "markdown",
   "metadata": {},
   "source": [
    "send a get request and print the values in the JSON object (if the GET is successful)"
   ]
  },
  {
   "cell_type": "code",
   "execution_count": 5,
   "metadata": {},
   "outputs": [],
   "source": [
    "#send a GET request\n",
    "response = requests.get(url, params=params, headers=headers)\n",
    "#get the HTTP status code \n",
    "status = response.status_code\n",
    "#if the status is 200 (successful) print the value of the JSON\n",
    "if status == 200:\n",
    "    businesses_json = json.loads(response.text)\n",
    "else:\n",
    "    print(f\"Error. Status code {status}.\")"
   ]
  },
  {
   "attachments": {},
   "cell_type": "markdown",
   "metadata": {},
   "source": [
    "print the following information from the JSON object: name of business and id of business--the id will later be used to go to the reviews page of that business"
   ]
  },
  {
   "cell_type": "code",
   "execution_count": 21,
   "metadata": {},
   "outputs": [
    {
     "name": "stdout",
     "output_type": "stream",
     "text": [
      "[\"Teixeira's Bakery\", 'WDO572T_K4e2XFljjpQfkA', 283]\n",
      "['Soul Sweet Boutique', 'NirktWbEh_ytqDDHqRbrzA', 32]\n",
      "['Pao Da Terra Bakery', 'Ns9nsB1-KUnUhHvvWDye1Q', 54]\n",
      "['Elan Cafe + Bubbleology', 'RhXV45QAuIpABSNM5vKxPw', 4]\n",
      "[\"Calandra's Italian & French Bakery\", 'ON1Uv0nm7CVvOBWxhbA9pg', 194]\n",
      "[\"Tonnie's Minis\", 'N07dN8PSMwvh1l681cJlvQ', 34]\n",
      "['Gio Docinhos', '1OPVyccr0TWo0hIzs7daDQ', 14]\n",
      "['The Bread Stand', 'TTUjOo7AtHzWWHhvYgt8Tw', 119]\n",
      "['Level One Bakery', 'L6o6epAGG8oFLXy_ZP2bcA', 6]\n",
      "['Mattarello Bakery & Cafe', 'QLjvHXqv0I70iiP3DIdpcA', 42]\n"
     ]
    }
   ],
   "source": [
    "#use a try/except statement to handle any exceptions that are thrown\n",
    "try:\n",
    "    top_businesses = []\n",
    "    for val in businesses_json.values():\n",
    "        #iterate over each business entry--enumerate the dictionary values to get both the key and value\n",
    "        for key, business_val in enumerate(val):\n",
    "            #only going to get the first 10 businesses just for simplicity \n",
    "            if key >= 10:\n",
    "                break\n",
    "            #get the name, id, and review count\n",
    "            bus_id = business_val['id']\n",
    "            bus_name = business_val['name']\n",
    "            bus_review_count = business_val['review_count']\n",
    "            #temp business list to format the list\n",
    "            business_add = [bus_name, bus_id, bus_review_count]\n",
    "            #append to top business list\n",
    "            top_businesses.append(business_add)\n",
    "            #print the values in a list format (to make it neater and easier to read)\n",
    "            print(business_add)\n",
    "#this except statement will handle the type error that usually occurs when iterating over the values\n",
    "except TypeError:\n",
    "    pass\n",
    "#catch all other exceptions\n",
    "except Exception as e:\n",
    "    print(e)"
   ]
  },
  {
   "attachments": {},
   "cell_type": "markdown",
   "metadata": {},
   "source": [
    "as shown from the output of the first 10 bakeries, we get the Name, ID, and how many reivews there are for that bakery. the ID will be important later for getting the reviews of each bakery. i also included the review count to be displayed since i would rather not analyze a bakery with less than 10 reviews as it wouldn't provide enough information compared to some of the other bakeries that have more reviews than that."
   ]
  },
  {
   "attachments": {},
   "cell_type": "markdown",
   "metadata": {},
   "source": [
    "remove the bakery from the list if it has 10 reviews or less--after running the code, we are left with 8 bakeries"
   ]
  },
  {
   "cell_type": "code",
   "execution_count": 23,
   "metadata": {},
   "outputs": [
    {
     "name": "stdout",
     "output_type": "stream",
     "text": [
      "[\"Teixeira's Bakery\", 'WDO572T_K4e2XFljjpQfkA', 283]\n",
      "['Soul Sweet Boutique', 'NirktWbEh_ytqDDHqRbrzA', 32]\n",
      "['Pao Da Terra Bakery', 'Ns9nsB1-KUnUhHvvWDye1Q', 54]\n",
      "[\"Calandra's Italian & French Bakery\", 'ON1Uv0nm7CVvOBWxhbA9pg', 194]\n",
      "[\"Tonnie's Minis\", 'N07dN8PSMwvh1l681cJlvQ', 34]\n",
      "['Gio Docinhos', '1OPVyccr0TWo0hIzs7daDQ', 14]\n",
      "['The Bread Stand', 'TTUjOo7AtHzWWHhvYgt8Tw', 119]\n",
      "['Mattarello Bakery & Cafe', 'QLjvHXqv0I70iiP3DIdpcA', 42]\n"
     ]
    }
   ],
   "source": [
    "#iterate over the top_businesses list\n",
    "for i, val in enumerate(top_businesses):\n",
    "    if val[2] <= 10:\n",
    "        #remove the entire value at the index that contains 10 or less reviews\n",
    "        top_businesses.pop(i)\n",
    "#iterate over teh list to print neater\n",
    "for val in top_businesses:\n",
    "    print(val)\n"
   ]
  },
  {
   "attachments": {},
   "cell_type": "markdown",
   "metadata": {},
   "source": [
    "get the reviews and ratings of each bakery"
   ]
  },
  {
   "cell_type": "code",
   "execution_count": 55,
   "metadata": {},
   "outputs": [
    {
     "name": "stdout",
     "output_type": "stream",
     "text": [
      "{\"Teixeira's Bakery\": ['I saw the great reviews on the pastelitos de nata and stopped by during my trip. Parking is difficult to find. I parked a few blocks away. The bakery is on...', \"One of my favorite morning haunts in New York City area - although technically it's in New Jersey, and past the lifeless Jersey City (at least in the...\", \"First off I wanna start by saying, in the Ironbound there is no better bakery. \\n\\nEvery time I come into the bakery it feels like I'm walking into a little...\"], 'Soul Sweet Boutique': [\"This  place it's amazing place in Newark. The best breakfast ever and service is very pleasant.\", 'Nope.....!\\n\\nWe saw their Luxury Truffle Collection offered on QVC. The truffles presented there were presented as large enough to be cut in half and shared...', \"This place is awful. I'm not sure what the hype is all about. Service when we picked up cake and sweets was rude. The brigadeiros don't taste like the...\"], 'Pao Da Terra Bakery': ['After having dinner in Newark with my family we decided to stop for coffee and dessert in a bakery on Ferry St. \\n\\nPao Da Terra is a fantastic option for...', 'The staff was very helpful explaining the different types of pastries as I was unfamiliar with the many choices. \\nEach selection was delicious and...', 'Pão da Terra has become one of our favorite bakeries whenever my partner and I are in the Ironbound section of Newark. We stopped by here after having lunch...'], \"Calandra's Italian & French Bakery\": ['Always our first choice for a birthday or celebratory cake at short notice. There is usually a line, but it moves fast enough. You can get words and decor...', 'Although Ive never visited this business myself Ive never been disappointed with their cakes. We have family who order cakes from Calandras each and every...', 'This place has gone crazy down hill.  They used to be the best in the neighborhood, but once they got big and famous, they stopped caring about their...'], \"Tonnie's Minis\": ['Love it love it!! Finally some good cupcakes from a real baker. Moist, flavorful and just the right amount of sweetness. Variety here, they even had my...', 'I ordered mini cupcakes for local delivery to a friend and I paid $20 flat rate for shipping to Edgewater. The online ordering process was the easiest part,...', 'Ordered some cupcakes from door dash. Came in a very sturdy container. The cupcakes were cute, nicely designed and tasty! would order from them again'], 'Gio Docinhos': ['Elegant and sophisticated Brazilian confectionary shop and bakery. Very easy to miss, and fairly tiny, but the interior is incredibly charming and the staff...', \"Adorable little bakery in Newark. You can tell it's genuinely Brazilian by the people that work there and the types of desserts that you can find. No one...\", \"We ordered a 3 Amores cake for our son's birthday, it was amazing, great combination of flavors chocolate, cream, fresh strawberries great quality. We will...\"], 'The Bread Stand': ['Ambiance gives you a NY style bakery vibe, chic, warm and inviting. Though you do feel rushed to order or know what you want as soon as you stand in line,...', \"Came here on New Year's Day of 2023. Spent the night at a friends place in union and wanted some coffee. Found this place searching on Yelp, read the...\", 'Perfect casual breakfast spot! The aromas that hit you on your way in really test your selection skills. They have some tables indoors and along the windows...'], 'Mattarello Bakery & Cafe': ['Love getting treats from here! They have such a great array of pastries and cakes. Customer service is very friendly and helpful at describing all of the...', 'Came here for the first time for some pastries for a dinner party I was attending and it did not disappoint! Everybody loved all the pastries and it was...', 'delicious desserts! everything is just SIGNIFICANTLY smaller than the website makes it look (or at least how i imagined it, especially considering the...']}\n",
      "{\"Teixeira's Bakery\": [5, 5, 5], 'Soul Sweet Boutique': [5, 1, 1], 'Pao Da Terra Bakery': [5, 5, 4], \"Calandra's Italian & French Bakery\": [5, 5, 1], \"Tonnie's Minis\": [5, 1, 5], 'Gio Docinhos': [5, 4, 5], 'The Bread Stand': [5, 4, 5], 'Mattarello Bakery & Cafe': [5, 5, 4]}\n"
     ]
    }
   ],
   "source": [
    "#create a new dict that will hold all of the reviews for all of the businesses and the ratings for each business\n",
    "business_reviews = {}\n",
    "business_ratings = {}\n",
    "\n",
    "#iterate over the business list\n",
    "for val in top_businesses:\n",
    "    #set the variable to index 1 since that is where the id is in each list\n",
    "    id = val[1]\n",
    "    #create the url to send a GET request to \n",
    "    url=\"https://api.yelp.com/v3/businesses/\" + id + \"/reviews\"\n",
    "    #send the get req\n",
    "    req = requests.get(url, headers=headers)\n",
    "    #get the text\n",
    "    parsed = json.loads(req.text)\n",
    "    #get the reviews specifically\n",
    "    reviews = parsed[\"reviews\"]\n",
    "\n",
    "    #create an empty list to hold the reviews we iterate over later\n",
    "    temp_rev = []\n",
    "    #iterate over the reviews\n",
    "    for review in reviews:\n",
    "        #append only the value at the 'text' key to the temp list\n",
    "        temp_rev.append(review['text'])\n",
    "    \n",
    "    #add the review list and business name to the dictionary\n",
    "    business_reviews[val[0]] = temp_rev\n",
    "\n",
    "    #create an empty list to hold the ratings we iterate over later\n",
    "    temp_rat = []\n",
    "    #iterate over the reviews\n",
    "    for review in reviews:\n",
    "        #append only the value at the 'rating' key to the temp list\n",
    "        temp_rat.append(review['rating'])\n",
    "\n",
    "    #add the review list and business name to the dictionary\n",
    "    business_ratings[val[0]] = temp_rat\n",
    "\n",
    "#print both dicts\n",
    "print(business_reviews)\n",
    "print(business_ratings)\n"
   ]
  },
  {
   "attachments": {},
   "cell_type": "markdown",
   "metadata": {},
   "source": [
    "clean the reviews:\n",
    "    -remove all '\\n'\n",
    "    -remove '...'"
   ]
  },
  {
   "cell_type": "code",
   "execution_count": 70,
   "metadata": {},
   "outputs": [
    {
     "name": "stdout",
     "output_type": "stream",
     "text": [
      "{\"Teixeira's Bakery\": ['I saw the great reviews on the pastelitos de nata and stopped by during my trip. Parking is difficult to find. I parked a few blocks away. The bakery is on', \"One of my favorite morning haunts in New York City area - although technically it's in New Jersey, and past the lifeless Jersey City (at least in the\", \"First off I wanna start by saying, in the Ironbound there is no better bakery. Every time I come into the bakery it feels like I'm walking into a little\"], 'Soul Sweet Boutique': [\"This  place it's amazing place in Newark. The best breakfast ever and service is very pleasant.\", 'Nope..!We saw their Luxury Truffle Collection offered on QVC. The truffles presented there were presented as large enough to be cut in half and shared', \"This place is awful. I'm not sure what the hype is all about. Service when we picked up cake and sweets was rude. The brigadeiros don't taste like the\"], 'Pao Da Terra Bakery': ['After having dinner in Newark with my family we decided to stop for coffee and dessert in a bakery on Ferry St. Pao Da Terra is a fantastic option for', 'The staff was very helpful explaining the different types of pastries as I was unfamiliar with the many choices. Each selection was delicious and', 'Pão da Terra has become one of our favorite bakeries whenever my partner and I are in the Ironbound section of Newark. We stopped by here after having lunch'], \"Calandra's Italian & French Bakery\": ['Always our first choice for a birthday or celebratory cake at short notice. There is usually a line, but it moves fast enough. You can get words and decor', 'Although Ive never visited this business myself Ive never been disappointed with their cakes. We have family who order cakes from Calandras each and every', 'This place has gone crazy down hill.  They used to be the best in the neighborhood, but once they got big and famous, they stopped caring about their'], \"Tonnie's Minis\": ['Love it love it!! Finally some good cupcakes from a real baker. Moist, flavorful and just the right amount of sweetness. Variety here, they even had my', 'I ordered mini cupcakes for local delivery to a friend and I paid $20 flat rate for shipping to Edgewater. The online ordering process was the easiest part,', 'Ordered some cupcakes from door dash. Came in a very sturdy container. The cupcakes were cute, nicely designed and tasty! would order from them again'], 'Gio Docinhos': ['Elegant and sophisticated Brazilian confectionary shop and bakery. Very easy to miss, and fairly tiny, but the interior is incredibly charming and the staff', \"Adorable little bakery in Newark. You can tell it's genuinely Brazilian by the people that work there and the types of desserts that you can find. No one\", \"We ordered a 3 Amores cake for our son's birthday, it was amazing, great combination of flavors chocolate, cream, fresh strawberries great quality. We will\"], 'The Bread Stand': ['Ambiance gives you a NY style bakery vibe, chic, warm and inviting. Though you do feel rushed to order or know what you want as soon as you stand in line,', \"Came here on New Year's Day of 2023. Spent the night at a friends place in union and wanted some coffee. Found this place searching on Yelp, read the\", 'Perfect casual breakfast spot! The aromas that hit you on your way in really test your selection skills. They have some tables indoors and along the windows'], 'Mattarello Bakery & Cafe': ['Love getting treats from here! They have such a great array of pastries and cakes. Customer service is very friendly and helpful at describing all of the', 'Came here for the first time for some pastries for a dinner party I was attending and it did not disappoint! Everybody loved all the pastries and it was', 'delicious desserts! everything is just SIGNIFICANTLY smaller than the website makes it look (or at least how i imagined it, especially considering the']}\n"
     ]
    }
   ],
   "source": [
    "#create a new dictionary to hold the cleaned reviews\n",
    "cleaned_reviews = {}\n",
    "\n",
    "#iterate over the reviews dict, getting both the key and value\n",
    "for key, val in business_reviews.items():\n",
    "    #create a temp new list\n",
    "    new_list = []\n",
    "    #iterate over the review list for that business\n",
    "    for rev in val:\n",
    "        #remove '\\n'\n",
    "        new_rev = rev.replace('\\n', '')\n",
    "        #remove '...'\n",
    "        new_rev = new_rev.replace('...', '')\n",
    "        #append to the temp list\n",
    "        new_list.append(new_rev)\n",
    "    #append to the cleaned dict\n",
    "    cleaned_reviews[key] = new_list\n",
    "\n",
    "print(cleaned_reviews)"
   ]
  },
  {
   "attachments": {},
   "cell_type": "markdown",
   "metadata": {},
   "source": [
    "perform sentiment analysis using the default textblob sentiment analyzer and the naives bayes analyzer"
   ]
  },
  {
   "attachments": {},
   "cell_type": "markdown",
   "metadata": {},
   "source": [
    "sentiment analysis using the native analyzer on all of the reviews included for all the bakeries--this will give the general sentiment of bakeries in NJ--after running the code, it is shown that, in this case, the polarity score is 0.2, suggesting that the sentiment of the text is slightly positive. The subjectivity score is 0.6, meaning that the text is somewhat subjective and opinionated."
   ]
  },
  {
   "cell_type": "code",
   "execution_count": 76,
   "metadata": {},
   "outputs": [
    {
     "data": {
      "text/plain": [
       "Sentiment(polarity=0.23927349149388624, subjectivity=0.6100530682767525)"
      ]
     },
     "execution_count": 76,
     "metadata": {},
     "output_type": "execute_result"
    }
   ],
   "source": [
    "#create a list with all of the reviews\n",
    "all_rev_list = []\n",
    "#iterate over the dict to populate the rev list\n",
    "for val in cleaned_reviews:\n",
    "    for rev in cleaned_reviews[val]:\n",
    "        all_rev_list.append(rev)\n",
    "#this will be what we use to join all the sentences in the list\n",
    "delimiter = ' '\n",
    "#join the sentences in the list so it can be used to create a text blob\n",
    "text = delimiter.join(all_rev_list)\n",
    "#create a blob will all the reviews\n",
    "all_rev_blob = tb(text)\n",
    "#get the sentiment of the blob\n",
    "all_rev_blob.sentiment"
   ]
  },
  {
   "attachments": {},
   "cell_type": "markdown",
   "metadata": {},
   "source": [
    "sentiment analysis using the naive bays analyzer on all of the reviews included for all the bakeries--this will give the general sentiment of bakeries in NJ--after running the code, it is shown that, the text is 99.99% positive, giving it a far higher positivity rating compared to the default sentiment analyzer"
   ]
  },
  {
   "cell_type": "code",
   "execution_count": 77,
   "metadata": {},
   "outputs": [
    {
     "data": {
      "text/plain": [
       "Sentiment(classification='pos', p_pos=0.9999999999763595, p_neg=2.362696474769301e-11)"
      ]
     },
     "execution_count": 77,
     "metadata": {},
     "output_type": "execute_result"
    }
   ],
   "source": [
    "#create a new blob object and specify the analyzer as NA (naive bayes)\n",
    "all_rev_blob2 = tb(text, analyzer=na())\n",
    "#get the sentiment\n",
    "all_rev_blob2.sentiment"
   ]
  },
  {
   "attachments": {},
   "cell_type": "markdown",
   "metadata": {},
   "source": [
    "perform sentiment analysis on each of the bakeries"
   ]
  },
  {
   "attachments": {},
   "cell_type": "markdown",
   "metadata": {},
   "source": [
    "use the default sentiment analyzer"
   ]
  },
  {
   "cell_type": "code",
   "execution_count": 94,
   "metadata": {},
   "outputs": [
    {
     "name": "stdout",
     "output_type": "stream",
     "text": [
      "[[Sentiment(polarity=0.03333333333333335, subjectivity=0.6166666666666667), Sentiment(polarity=0.04454545454545454, subjectivity=0.5118181818181818)], [Sentiment(polarity=0.851111111111111, subjectivity=0.7333333333333334), Sentiment(polarity=0.015873015873015872, subjectivity=0.3650793650793651)], [Sentiment(polarity=0.4, subjectivity=0.9), Sentiment(polarity=0.425, subjectivity=0.6)], [Sentiment(polarity=0.04, subjectivity=0.39666666666666667), Sentiment(polarity=-0.75, subjectivity=0.75)], [Sentiment(polarity=0.41116071428571427, subjectivity=0.605952380952381), Sentiment(polarity=-0.0125, subjectivity=0.0625)], [Sentiment(polarity=0.4526666666666667, subjectivity=0.9), Sentiment(polarity=0.23750000000000002, subjectivity=0.6666666666666666)], [Sentiment(polarity=0.6, subjectivity=0.6), Sentiment(polarity=0.018181818181818174, subjectivity=0.2772727272727273)], [Sentiment(polarity=0.478125, subjectivity=0.625), Sentiment(polarity=0.50625, subjectivity=0.5666666666666667)]]\n"
     ]
    }
   ],
   "source": [
    "#create a list that will hold all of the sentiments for each review\n",
    "def_ind_rev_list = []\n",
    "#create an iterator variable\n",
    "i = 0\n",
    "#create a temp list and initialize it \n",
    "temp_list = []\n",
    "#iterate over the list\n",
    "for val in all_rev_list:\n",
    "    #evaluate if i == 2 (every 3 iterations)\n",
    "    if i == 2:\n",
    "        #append the teml list to the masterlist\n",
    "        def_ind_rev_list.append(temp_list)\n",
    "        #clear the temp list\n",
    "        temp_list = []\n",
    "        #clear the iterator variable\n",
    "        i = 0\n",
    "    #eval if it hasn't been 3 iterations\n",
    "    else:\n",
    "        #create a blob object\n",
    "        temp_blob = tb(val)\n",
    "        #append the sentiment to the temp list\n",
    "        temp_list.append(temp_blob.sentiment)\n",
    "        #increment the iterator variable\n",
    "        i+=1\n",
    "\n",
    "print(def_ind_rev_list) \n",
    "\n"
   ]
  },
  {
   "attachments": {},
   "cell_type": "markdown",
   "metadata": {},
   "source": [
    "use the naive bayes analyzer"
   ]
  },
  {
   "cell_type": "code",
   "execution_count": 95,
   "metadata": {},
   "outputs": [
    {
     "name": "stdout",
     "output_type": "stream",
     "text": [
      "[[Sentiment(classification='neg', p_pos=0.3000142125108287, p_neg=0.6999857874891712), Sentiment(classification='neg', p_pos=0.21049974729851714, p_neg=0.7895002527014838)], [Sentiment(classification='pos', p_pos=0.5847782656975856, p_neg=0.4152217343024142), Sentiment(classification='neg', p_pos=0.15472512584221373, p_neg=0.845274874157788)], [Sentiment(classification='pos', p_pos=0.734041699764506, p_neg=0.2659583002354965), Sentiment(classification='pos', p_pos=0.988797148052454, p_neg=0.011202851947546059)], [Sentiment(classification='pos', p_pos=0.667240428350633, p_neg=0.33275957164936537), Sentiment(classification='pos', p_pos=0.6641272033283527, p_neg=0.33587279667164516)], [Sentiment(classification='pos', p_pos=0.6737416795565682, p_neg=0.32625832044343095), Sentiment(classification='pos', p_pos=0.9595260071944073, p_neg=0.04047399280559199)], [Sentiment(classification='pos', p_pos=0.8523958340079726, p_neg=0.14760416599202744), Sentiment(classification='neg', p_pos=0.14642669429130234, p_neg=0.8535733057086964)], [Sentiment(classification='pos', p_pos=0.9982523438671455, p_neg=0.001747656132850844), Sentiment(classification='pos', p_pos=0.9466090367241701, p_neg=0.05339096327582791)], [Sentiment(classification='pos', p_pos=0.5962412256754903, p_neg=0.4037587743245077), Sentiment(classification='pos', p_pos=0.7145402624742548, p_neg=0.28545973752574266)]]\n"
     ]
    }
   ],
   "source": [
    "#create a list that will hold all of the sentiments for each review\n",
    "na_ind_rev_list = []\n",
    "#create an iterator variable\n",
    "i = 0\n",
    "#create a temp list and initialize it \n",
    "temp_list = []\n",
    "#iterate over the list\n",
    "for val in all_rev_list:\n",
    "    #evaluate if i == 2 (every 3 iterations)\n",
    "    if i == 2:\n",
    "        #append the teml list to the masterlist\n",
    "        na_ind_rev_list.append(temp_list)\n",
    "        #clear the temp list\n",
    "        temp_list = []\n",
    "        #clear the iterator variable\n",
    "        i = 0\n",
    "    #eval if it hasn't been 3 iterations\n",
    "    else:\n",
    "        #create a blob object\n",
    "        temp_blob = tb(val, analyzer=na())\n",
    "        #append the sentiment to the temp list\n",
    "        temp_list.append(temp_blob.sentiment)\n",
    "        #increment the iterator variable\n",
    "        i+=1\n",
    "\n",
    "print(na_ind_rev_list) "
   ]
  },
  {
   "attachments": {},
   "cell_type": "markdown",
   "metadata": {},
   "source": [
    "delete the nltk stop words"
   ]
  },
  {
   "cell_type": "code",
   "execution_count": 104,
   "metadata": {},
   "outputs": [
    {
     "name": "stdout",
     "output_type": "stream",
     "text": [
      "['saw', 'great', 'reviews', 'pastelitos', 'de', 'nata', 'stopped', 'trip.', 'Parking', 'difficult', 'find.', 'parked', 'blocks', 'away.', 'bakery', 'One', 'favorite', 'morning', 'haunts', 'New', 'York', 'City', 'area', '-', 'although', 'technically', 'New', 'Jersey,', 'past', 'lifeless', 'Jersey', 'City', '(at', 'least', 'First', 'wanna', 'start', 'saying,', 'Ironbound', 'better', 'bakery.', 'Every', 'time', 'come', 'bakery', 'feels', 'like', \"I'm\", 'walking', 'little', 'place', 'amazing', 'place', 'Newark.', 'best', 'breakfast', 'ever', 'service', 'pleasant.', 'Nope..!We', 'saw', 'Luxury', 'Truffle', 'Collection', 'offered', 'QVC.', 'truffles', 'presented', 'presented', 'large', 'enough', 'cut', 'half', 'shared', 'place', 'awful.', \"I'm\", 'sure', 'hype', 'about.', 'Service', 'picked', 'cake', 'sweets', 'rude.', 'brigadeiros', 'taste', 'like', 'dinner', 'Newark', 'family', 'decided', 'stop', 'coffee', 'dessert', 'bakery', 'Ferry', 'St.', 'Pao', 'Da', 'Terra', 'fantastic', 'option', 'staff', 'helpful', 'explaining', 'different', 'types', 'pastries', 'unfamiliar', 'many', 'choices.', 'selection', 'delicious', 'Pão', 'da', 'Terra', 'become', 'one', 'favorite', 'bakeries', 'whenever', 'partner', 'Ironbound', 'section', 'Newark.', 'stopped', 'lunch', 'Always', 'first', 'choice', 'birthday', 'celebratory', 'cake', 'short', 'notice.', 'usually', 'line,', 'moves', 'fast', 'enough.', 'get', 'words', 'decor', 'Although', 'Ive', 'never', 'visited', 'business', 'Ive', 'never', 'disappointed', 'cakes.', 'family', 'order', 'cakes', 'Calandras', 'every', 'place', 'gone', 'crazy', 'hill.', 'used', 'best', 'neighborhood,', 'got', 'big', 'famous,', 'stopped', 'caring', 'Love', 'love', 'it!!', 'Finally', 'good', 'cupcakes', 'real', 'baker.', 'Moist,', 'flavorful', 'right', 'amount', 'sweetness.', 'Variety', 'here,', 'even', 'ordered', 'mini', 'cupcakes', 'local', 'delivery', 'friend', 'paid', '$20', 'flat', 'rate', 'shipping', 'Edgewater.', 'online', 'ordering', 'process', 'easiest', 'part,', 'Ordered', 'cupcakes', 'door', 'dash.', 'Came', 'sturdy', 'container.', 'cupcakes', 'cute,', 'nicely', 'designed', 'tasty!', 'would', 'order', 'Elegant', 'sophisticated', 'Brazilian', 'confectionary', 'shop', 'bakery.', 'easy', 'miss,', 'fairly', 'tiny,', 'interior', 'incredibly', 'charming', 'staff', 'Adorable', 'little', 'bakery', 'Newark.', 'tell', 'genuinely', 'Brazilian', 'people', 'work', 'types', 'desserts', 'find.', 'one', 'ordered', '3', 'Amores', 'cake', \"son's\", 'birthday,', 'amazing,', 'great', 'combination', 'flavors', 'chocolate,', 'cream,', 'fresh', 'strawberries', 'great', 'quality.', 'Ambiance', 'gives', 'NY', 'style', 'bakery', 'vibe,', 'chic,', 'warm', 'inviting.', 'Though', 'feel', 'rushed', 'order', 'know', 'want', 'soon', 'stand', 'line,', 'Came', 'New', \"Year's\", 'Day', '2023.', 'Spent', 'night', 'friends', 'place', 'union', 'wanted', 'coffee.', 'Found', 'place', 'searching', 'Yelp,', 'read', 'Perfect', 'casual', 'breakfast', 'spot!', 'aromas', 'hit', 'way', 'really', 'test', 'selection', 'skills.', 'tables', 'indoors', 'along', 'windows', 'Love', 'getting', 'treats', 'here!', 'great', 'array', 'pastries', 'cakes.', 'Customer', 'service', 'friendly', 'helpful', 'describing', 'Came', 'first', 'time', 'pastries', 'dinner', 'party', 'attending', 'disappoint!', 'Everybody', 'loved', 'pastries', 'delicious', 'desserts!', 'everything', 'SIGNIFICANTLY', 'smaller', 'website', 'makes', 'look', '(or', 'least', 'imagined', 'it,', 'especially', 'considering']\n",
      "8\n"
     ]
    }
   ],
   "source": [
    "#initialize the stopwords\n",
    "stop_words = set(stopwords.words('english'))\n",
    "#split the text into words\n",
    "words = text.split()\n",
    "#filter the words\n",
    "filtered_words = [word for word in words if word.lower() not in stop_words]\n",
    "\n",
    "print(filtered_words)"
   ]
  },
  {
   "attachments": {},
   "cell_type": "markdown",
   "metadata": {},
   "source": [
    "further data analysis and graphs"
   ]
  },
  {
   "attachments": {},
   "cell_type": "markdown",
   "metadata": {},
   "source": [
    "sentiment analysis graphs"
   ]
  },
  {
   "attachments": {},
   "cell_type": "markdown",
   "metadata": {},
   "source": [
    "donut chart of the pos, neu, and neg reviews (default textblob)"
   ]
  },
  {
   "cell_type": "code",
   "execution_count": 119,
   "metadata": {},
   "outputs": [
    {
     "data": {
      "image/png": "[encoded data removed]",
      "text/plain": [
       "<Figure size 432x288 with 1 Axes>"
      ]
     },
     "metadata": {},
     "output_type": "display_data"
    }
   ],
   "source": [
    "#set three incrementing variables\n",
    "def_pos_sent_num = 0\n",
    "def_neu_sent_num = 0\n",
    "def_neg_sent_num = 0\n",
    "#iterate over the reviews\n",
    "for sent in def_ind_rev_list:\n",
    "    for rev in sent:\n",
    "        #eval the sentiment of each review and increment the correct variable\n",
    "        if rev.polarity <= -.25:\n",
    "            def_neg_sent_num += 1\n",
    "        elif rev.polarity >= -.24 and rev.polarity <= .25:\n",
    "            def_neu_sent_num =+ 1\n",
    "        elif rev.polarity >= .26:\n",
    "            def_pos_sent_num += 1\n",
    "#calc the percentages in a list\n",
    "percentages = [(def_pos_sent_num/8)*100, (def_neg_sent_num/8)*100, (def_neu_sent_num/8)*100]\n",
    "\n",
    "#initialize the labels and colors for the labels\n",
    "labels = ['Positive', 'Negative', 'Neutral']\n",
    "colors = ['green', 'red', 'gray']\n",
    "#create a pie chart\n",
    "plt.pie(percentages, labels=labels, colors=colors, autopct='%1.1f%%', startangle=90)\n",
    "#draw a white circle in the middle to create a donut chart\n",
    "inner_circle = plt.Circle((0,0), 0.40, fc='white')\n",
    "fig = plt.gcf()\n",
    "fig.gca().add_artist(inner_circle)\n",
    "#title the graph\n",
    "plt.title('Default Sentiment Analysis Results', color='white')\n",
    "#display the chart\n",
    "plt.show()"
   ]
  },
  {
   "attachments": {},
   "cell_type": "markdown",
   "metadata": {},
   "source": [
    "donut chart of the pos, neu, and neg reviews (naive bayes)"
   ]
  },
  {
   "cell_type": "code",
   "execution_count": 120,
   "metadata": {},
   "outputs": [
    {
     "data": {
      "image/png": "[encoded data removed]",
      "text/plain": [
       "<Figure size 432x288 with 1 Axes>"
      ]
     },
     "metadata": {},
     "output_type": "display_data"
    }
   ],
   "source": [
    "#set three incrementing variables\n",
    "na_pos_sent_num = 0\n",
    "na_neg_sent_num = 0\n",
    "#iterate over the reviews\n",
    "for sent in na_ind_rev_list:\n",
    "    for rev in sent:\n",
    "        #eval the sentiment of each review and increment the correct variable\n",
    "        if rev.classification == 'neg':\n",
    "            na_neg_sent_num += 1\n",
    "        elif rev.classification == 'pos':\n",
    "            na_pos_sent_num += 1\n",
    "#calc the percentages in a list\n",
    "percentages = [(na_pos_sent_num/8)*100, (na_neg_sent_num/8)*100]\n",
    "\n",
    "#initialize the labels and colors for the labels\n",
    "labels = ['Positive', 'Negative']\n",
    "colors = ['green', 'red']\n",
    "#create a pie chart\n",
    "plt.pie(percentages, labels=labels, colors=colors, autopct='%1.1f%%', startangle=90)\n",
    "#draw a white circle in the middle to create a donut chart\n",
    "inner_circle = plt.Circle((0,0), 0.40, fc='white')\n",
    "fig = plt.gcf()\n",
    "fig.gca().add_artist(inner_circle)\n",
    "#title the graph\n",
    "plt.title('NA Sentiment Analysis Results', color='white')\n",
    "#display the chart\n",
    "plt.show()"
   ]
  },
  {
   "attachments": {},
   "cell_type": "markdown",
   "metadata": {},
   "source": []
  },
  {
   "cell_type": "code",
   "execution_count": 136,
   "metadata": {},
   "outputs": [
    {
     "name": "stdout",
     "output_type": "stream",
     "text": [
      "5\n",
      "1\n"
     ]
    },
    {
     "data": {
      "image/png": "[encoded data removed]",
      "text/plain": [
       "<Figure size 432x288 with 1 Axes>"
      ]
     },
     "metadata": {},
     "output_type": "display_data"
    }
   ],
   "source": [
    "#set two incrementing variables\n",
    "obj_num = 0\n",
    "sub_num = 0\n",
    "#iterate over the reviews\n",
    "for sent in def_ind_rev_list:\n",
    "    for rev in sent:\n",
    "        #eval the sentiment of each review and increment the correct variable\n",
    "        if rev.subjectivity <= .55:\n",
    "            obj_num += 1\n",
    "        elif rev.subjectivity >= .56:\n",
    "            sub_num =+ 1\n",
    "\n",
    "#calc the percentages in a list\n",
    "percentages = [(sub_num/8)*100, (obj_num/8)*100]\n",
    "\n",
    "#initialize the labels and colors for the labels\n",
    "labels = ['Subjective', 'Objective']\n",
    "colors = ['green', 'blue']\n",
    "#create a pie chart\n",
    "plt.pie(percentages, labels=labels, colors=colors, autopct='%1.1f%%', startangle=90)\n",
    "#draw a white circle in the middle to create a donut chart\n",
    "inner_circle = plt.Circle((0,0), 0.40, fc='white')\n",
    "fig = plt.gcf()\n",
    "fig.gca().add_artist(inner_circle)\n",
    "#title the graph\n",
    "plt.title('Subjectivity Sentiment Analysis Results', color='white')\n",
    "#display the chart\n",
    "plt.show()"
   ]
  },
  {
   "attachments": {},
   "cell_type": "markdown",
   "metadata": {},
   "source": [
    "ratings analysis and chart"
   ]
  },
  {
   "attachments": {},
   "cell_type": "markdown",
   "metadata": {},
   "source": [
    "get the highest rated bakery"
   ]
  },
  {
   "cell_type": "code",
   "execution_count": 130,
   "metadata": {},
   "outputs": [
    {
     "name": "stdout",
     "output_type": "stream",
     "text": [
      "Teixeira's Bakery\n",
      "5.0\n"
     ]
    }
   ],
   "source": [
    "#create variable to hold the highest rated bakery\n",
    "highest_rat_bakery = ''\n",
    "#initialize the highhest rating variable\n",
    "highest_rating = 0\n",
    "#get the bakery with the highest average rating\n",
    "for val in business_ratings:\n",
    "    if sum(business_ratings[val]) > highest_rating:\n",
    "        highest_rat_bakery = val\n",
    "        highest_rating = sum(business_ratings[val])\n",
    "\n",
    "#get the average of the rating\n",
    "highest_rating = highest_rating/3\n",
    "#print the results\n",
    "print(highest_rat_bakery)\n",
    "print(highest_rating)"
   ]
  },
  {
   "attachments": {},
   "cell_type": "markdown",
   "metadata": {},
   "source": [
    "get the lowest rated bakery"
   ]
  },
  {
   "cell_type": "code",
   "execution_count": 134,
   "metadata": {},
   "outputs": [
    {
     "name": "stdout",
     "output_type": "stream",
     "text": [
      "Soul Sweet Boutique\n",
      "2.3333333333333335\n"
     ]
    }
   ],
   "source": [
    "#create variable to hold the lowest rated bakery\n",
    "lowest_rat_bakery = ''\n",
    "#initialize the lowest rating variable\n",
    "lowest_rating = 20\n",
    "#get the bakery with the lowest average rating\n",
    "for val in business_ratings:\n",
    "    if sum(business_ratings[val]) < lowest_rating:\n",
    "        lowest_rat_bakery = val\n",
    "        lowest_rating = sum(business_ratings[val])\n",
    "\n",
    "#get the average of the rating\n",
    "lowest_rating = lowest_rating/3\n",
    "#print the results\n",
    "print(lowest_rat_bakery)\n",
    "print(lowest_rating)"
   ]
  }
 ],
 "metadata": {
  "kernelspec": {
   "display_name": "base",
   "language": "python",
   "name": "python3"
  },
  "language_info": {
   "codemirror_mode": {
    "name": "ipython",
    "version": 3
   },
   "file_extension": ".py",
   "mimetype": "text/x-python",
   "name": "python",
   "nbconvert_exporter": "python",
   "pygments_lexer": "ipython3",
   "version": "3.9.7"
  },
  "orig_nbformat": 4
 },
 "nbformat": 4,
 "nbformat_minor": 2
}
